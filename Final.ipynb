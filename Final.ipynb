{
 "cells": [
  {
   "cell_type": "code",
   "execution_count": 1,
   "metadata": {
    "collapsed": true
   },
   "outputs": [],
   "source": [
    "import intrinio\n",
    "import pandas as pd\n",
    "import numpy as np\n",
    "import requests.exceptions\n",
    "import sys"
   ]
  },
  {
   "cell_type": "code",
   "execution_count": 4,
   "metadata": {
    "collapsed": false
   },
   "outputs": [],
   "source": [
    "#I couldnt figure out how to use the api so i downloaded AAPL from corbins github, just change this part to include\n",
    "#the access to the api, and if you guys find a different/better stock this should also work with that\n",
    "temp = pd.read_csv('AAPL.csv')"
   ]
  },
  {
   "cell_type": "code",
   "execution_count": 28,
   "metadata": {
    "collapsed": false
   },
   "outputs": [],
   "source": [
    "listsOfHighs = dict()\n",
    "for i in range(30,len(temp)-30):\n",
    "    listsOfHighs[i] = []\n",
    "    \n",
    "for i , row in temp.iterrows():\n",
    "    if i in range(30,len(temp)-30):\n",
    "        for j in range(i-30,i):\n",
    "            listsOfHighs[i].append(temp.iloc[j].adj_high)\n"
   ]
  },
  {
   "cell_type": "code",
   "execution_count": 41,
   "metadata": {
    "collapsed": false
   },
   "outputs": [],
   "source": [
    "#listsOfHighs is just a dict with lists of the last 30 days highs"
   ]
  },
  {
   "cell_type": "code",
   "execution_count": 38,
   "metadata": {
    "collapsed": false
   },
   "outputs": [],
   "source": [
    "#adds col for 30 day avg and std dev, and fills in values\n",
    "temp['30_avg'] = np.NaN\n",
    "temp['30_std'] = np.NaN\n",
    "for i ,row in temp.iterrows():\n",
    "    if i in range(30,len(temp)-30):\n",
    "        temp.set_value(i,'30_avg',sum(listsOfHighs[i])/len(listsOfHighs[i]))\n",
    "        temp.set_value(i,'30_std',np.std(np.array(listsOfHighs[i])))\n",
    "    "
   ]
  },
  {
   "cell_type": "markdown",
   "metadata": {},
   "source": [
    "temp"
   ]
  },
  {
   "cell_type": "code",
   "execution_count": 45,
   "metadata": {
    "collapsed": false
   },
   "outputs": [
    {
     "data": {
      "text/html": [
       "<div>\n",
       "<table border=\"1\" class=\"dataframe\">\n",
       "  <thead>\n",
       "    <tr style=\"text-align: right;\">\n",
       "      <th></th>\n",
       "      <th>Unnamed: 0</th>\n",
       "      <th>adj_close</th>\n",
       "      <th>adj_high</th>\n",
       "      <th>adj_low</th>\n",
       "      <th>adj_open</th>\n",
       "      <th>adj_volume</th>\n",
       "      <th>close</th>\n",
       "      <th>ex_dividend</th>\n",
       "      <th>high</th>\n",
       "      <th>low</th>\n",
       "      <th>open</th>\n",
       "      <th>split_ratio</th>\n",
       "      <th>volume</th>\n",
       "      <th>30_avg</th>\n",
       "      <th>30_std</th>\n",
       "    </tr>\n",
       "  </thead>\n",
       "  <tbody>\n",
       "    <tr>\n",
       "      <th>30</th>\n",
       "      <td>2016-12-28</td>\n",
       "      <td>116.259562</td>\n",
       "      <td>117.510777</td>\n",
       "      <td>115.701963</td>\n",
       "      <td>117.016305</td>\n",
       "      <td>20905892.0</td>\n",
       "      <td>116.76</td>\n",
       "      <td>0.0</td>\n",
       "      <td>118.0166</td>\n",
       "      <td>116.2</td>\n",
       "      <td>117.52</td>\n",
       "      <td>1.0</td>\n",
       "      <td>20905892.0</td>\n",
       "      <td>122.218613</td>\n",
       "      <td>5.43085</td>\n",
       "    </tr>\n",
       "  </tbody>\n",
       "</table>\n",
       "</div>"
      ],
      "text/plain": [
       "    Unnamed: 0   adj_close    adj_high     adj_low    adj_open  adj_volume  \\\n",
       "30  2016-12-28  116.259562  117.510777  115.701963  117.016305  20905892.0   \n",
       "\n",
       "     close  ex_dividend      high    low    open  split_ratio      volume  \\\n",
       "30  116.76          0.0  118.0166  116.2  117.52          1.0  20905892.0   \n",
       "\n",
       "        30_avg   30_std  \n",
       "30  122.218613  5.43085  "
      ]
     },
     "execution_count": 45,
     "metadata": {},
     "output_type": "execute_result"
    }
   ],
   "source": [
    "temp.iloc[[30]]\n",
    "#so it works"
   ]
  },
  {
   "cell_type": "code",
   "execution_count": null,
   "metadata": {
    "collapsed": true
   },
   "outputs": [],
   "source": []
  }
 ],
 "metadata": {
  "kernelspec": {
   "display_name": "Python 3",
   "language": "python",
   "name": "python3"
  },
  "language_info": {
   "codemirror_mode": {
    "name": "ipython",
    "version": 3
   },
   "file_extension": ".py",
   "mimetype": "text/x-python",
   "name": "python",
   "nbconvert_exporter": "python",
   "pygments_lexer": "ipython3",
   "version": "3.6.0"
  }
 },
 "nbformat": 4,
 "nbformat_minor": 2
}
